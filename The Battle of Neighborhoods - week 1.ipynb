{
 "cells": [
  {
   "cell_type": "markdown",
   "metadata": {
    "collapsed": true
   },
   "source": [
    "# The Battle of Neighborhoods"
   ]
  },
  {
   "cell_type": "markdown",
   "metadata": {},
   "source": [
    "### Coursera Capstone - Index\n",
    "### 1 Introduction Section\n",
    "######    1.1 Context\n",
    "######    1.2 Audience\n",
    "######    1.3 Methodology summary\n",
    "######    1.4 Sucess Criteria\n",
    "### 2 Data Section\n",
    "### 3 Modeling \n",
    "### 4 Discussion\n",
    "### 5 Results "
   ]
  },
  {
   "cell_type": "markdown",
   "metadata": {},
   "source": [
    "### Introduction Section"
   ]
  },
  {
   "cell_type": "markdown",
   "metadata": {},
   "source": [
    "### Context"
   ]
  },
  {
   "cell_type": "markdown",
   "metadata": {},
   "source": [
    "###### The cuisine of Toronto reflects Toronto's size and multicultural diversity. Different ethnic neighbourhoods throughout the city focus on specific cuisines, such as authentic Chinese and Vietnamese found in the city's Chinatowns, Korean in Koreatown, Greek on The Danforth, Italian cuisine in Little Italy and Corso Italia, and Indian in Little India. Numerous other world cuisines are available throughout the city, including Portuguese, Hungarian, Japanese, and Caribbean. Toronto's large Jewish population has also ensured a variety of Jewish restaurants and delis, with varying adherence to kosher rules.In addition to ethnic cuisines, Toronto is also home to many fine dining establishments and chain restaurants ranging from fast food to casual or upscale dining."
   ]
  },
  {
   "cell_type": "markdown",
   "metadata": {},
   "source": [
    "### Audience"
   ]
  },
  {
   "cell_type": "markdown",
   "metadata": {},
   "source": [
    "###### Explore, monitor and understand the market is a concern that suits very well  many situations: business owners who want to expand or defend, entrepreneurs who want to make a market entry, even employees in order to select the best places to work. \n",
    "###### To do so, is essencial to identify the best venues to start a new business and help this public."
   ]
  },
  {
   "cell_type": "markdown",
   "metadata": {},
   "source": [
    "### The business problem"
   ]
  },
  {
   "cell_type": "markdown",
   "metadata": {},
   "source": [
    "###### In this cenario, we see a very consolidated and diverse restaurant's market that attracks a large public. Thus, to start a new restaurant in Toronto it is essencial a well planned market entry. To do so, we can analyse the current market with machine learning techniques and deliver the best spots and types of cusine to start a new business. "
   ]
  },
  {
   "cell_type": "markdown",
   "metadata": {},
   "source": [
    "### Methodology"
   ]
  },
  {
   "cell_type": "markdown",
   "metadata": {},
   "source": [
    "###### The methodoly will be:\n",
    "###### 1)Data extraction from Foursquare API\n",
    "###### 2)Data profiling: understand the data distribution, missing values, restaurants descriptions\n",
    "###### 3)Data preparation: cleaning and adequacy to model tests\n",
    "###### 4)Modeling: stablish a clustering model\n",
    "###### 5)Discussion: select the best cluster correlated to restaurants and intepret how we segment it to find the best neighborhood\n",
    "###### 6)Conclusion: recomend the best place and cusine to start a restaurant"
   ]
  },
  {
   "cell_type": "markdown",
   "metadata": {},
   "source": [
    "### Sucess Criteria"
   ]
  },
  {
   "cell_type": "markdown",
   "metadata": {},
   "source": [
    "###### Identify the neighborhood with the least frequency of restaurants inside the cluster of restaurants(the one that restaurant is the predominant business and consequently it has the best correlation and sinergy with betewen restaurants and other businesses )"
   ]
  }
 ],
 "metadata": {
  "kernelspec": {
   "display_name": "Python 3",
   "language": "python",
   "name": "python3"
  },
  "language_info": {
   "codemirror_mode": {
    "name": "ipython",
    "version": 3
   },
   "file_extension": ".py",
   "mimetype": "text/x-python",
   "name": "python",
   "nbconvert_exporter": "python",
   "pygments_lexer": "ipython3",
   "version": "3.7.3"
  }
 },
 "nbformat": 4,
 "nbformat_minor": 1
}
